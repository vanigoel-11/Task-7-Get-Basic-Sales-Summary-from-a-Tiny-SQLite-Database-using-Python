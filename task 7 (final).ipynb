{
 "cells": [
  {
   "cell_type": "code",
   "execution_count": 1,
   "id": "cd7be4ad-efe9-496a-9743-5b37f76f5bab",
   "metadata": {},
   "outputs": [
    {
     "name": "stdout",
     "output_type": "stream",
     "text": [
      "✅ Connected to sales_data.db successfully!\n"
     ]
    }
   ],
   "source": [
    "# Step 1: Import sqlite3 and connect to the database\n",
    "\n",
    "import sqlite3\n",
    "\n",
    "# Create a connection to the SQLite database file\n",
    "# If 'sales_data.db' does not exist, it will be created automatically\n",
    "conn = sqlite3.connect(\"sales_data.db\")\n",
    "\n",
    "# Optional: print a success message\n",
    "print(\"✅ Connected to sales_data.db successfully!\")\n"
   ]
  },
  {
   "cell_type": "code",
   "execution_count": 3,
   "id": "ee88ebd5-e373-43d7-b70f-160f525a9088",
   "metadata": {},
   "outputs": [
    {
     "name": "stdout",
     "output_type": "stream",
     "text": [
      "✅ sales table created and sample data inserted.\n"
     ]
    }
   ],
   "source": [
    "# Step 2: Create the 'sales' table and insert sample data\n",
    "\n",
    "cursor = conn.cursor()\n",
    "\n",
    "# Drop the table if it already exists (optional, for re-runs)\n",
    "cursor.execute(\"DROP TABLE IF EXISTS sales\")\n",
    "\n",
    "# Create the sales table\n",
    "cursor.execute('''\n",
    "    CREATE TABLE sales (\n",
    "        id INTEGER PRIMARY KEY,\n",
    "        product TEXT,\n",
    "        quantity INTEGER,\n",
    "        price REAL\n",
    "    )\n",
    "''')\n",
    "\n",
    "# Insert sample data into the sales table\n",
    "sample_data = [\n",
    "    (1, \"Pen\", 10, 5.0),\n",
    "    (2, \"Notebook\", 5, 20.0),\n",
    "    (3, \"Pencil\", 15, 2.0),\n",
    "    (4, \"Eraser\", 7, 3.0)\n",
    "]\n",
    "\n",
    "cursor.executemany(\"INSERT INTO sales VALUES (?, ?, ?, ?)\", sample_data)\n",
    "\n",
    "# Save changes\n",
    "conn.commit()\n",
    "\n",
    "print(\"✅ sales table created and sample data inserted.\")\n"
   ]
  },
  {
   "cell_type": "code",
   "execution_count": 5,
   "id": "58d1fd5a-1a47-4ab6-bcd3-55cf6e7f02f8",
   "metadata": {},
   "outputs": [
    {
     "name": "stdout",
     "output_type": "stream",
     "text": [
      "📊 Basic Sales Summary\n",
      "🛒 Total Quantity Sold: 37\n",
      "💰 Total Revenue: ₹201.0\n"
     ]
    }
   ],
   "source": [
    "# Step 3: Query total quantity and total revenue from the sales table\n",
    "\n",
    "# Query for total quantity sold\n",
    "cursor.execute(\"SELECT SUM(quantity) FROM sales\")\n",
    "total_quantity = cursor.fetchone()[0]\n",
    "\n",
    "# Query for total revenue\n",
    "cursor.execute(\"SELECT SUM(quantity * price) FROM sales\")\n",
    "total_revenue = cursor.fetchone()[0]\n",
    "\n",
    "# Print the results\n",
    "print(\"📊 Basic Sales Summary\")\n",
    "print(f\"🛒 Total Quantity Sold: {total_quantity}\")\n",
    "print(f\"💰 Total Revenue: ₹{total_revenue}\")\n"
   ]
  },
  {
   "cell_type": "code",
   "execution_count": 7,
   "id": "314a9de8-d636-4206-9903-08a9c345429c",
   "metadata": {},
   "outputs": [
    {
     "name": "stdout",
     "output_type": "stream",
     "text": [
      "📋 Sales Summary by Product:\n",
      "    product  total_qty  revenue\n",
      "0    Eraser          7     21.0\n",
      "1  Notebook          5    100.0\n",
      "2       Pen         10     50.0\n",
      "3    Pencil         15     30.0\n"
     ]
    },
    {
     "data": {
      "image/png": "[encoded data removed]",
      "text/plain": [
       "<Figure size 640x480 with 1 Axes>"
      ]
     },
     "metadata": {},
     "output_type": "display_data"
    }
   ],
   "source": [
    "# Step 4: Run SQL query and load results into pandas DataFrame\n",
    "\n",
    "import pandas as pd\n",
    "import matplotlib.pyplot as plt\n",
    "\n",
    "# SQL query to get total quantity and revenue per product\n",
    "query = \"\"\"\n",
    "SELECT \n",
    "    product, \n",
    "    SUM(quantity) AS total_qty, \n",
    "    SUM(quantity * price) AS revenue \n",
    "FROM sales \n",
    "GROUP BY product\n",
    "\"\"\"\n",
    "\n",
    "# Load the query results into a DataFrame\n",
    "df = pd.read_sql_query(query, conn)\n",
    "\n",
    "# Print the summary table\n",
    "print(\"📋 Sales Summary by Product:\")\n",
    "print(df)\n",
    "\n",
    "# Plot a bar chart for revenue per product\n",
    "df.plot(kind='bar', x='product', y='revenue', legend=False, color='skyblue')\n",
    "plt.title(\"Revenue by Product\")\n",
    "plt.ylabel(\"Revenue (₹)\")\n",
    "plt.xlabel(\"Product\")\n",
    "plt.tight_layout()\n",
    "\n",
    "# Save the chart as PNG file (optional)\n",
    "plt.savefig(\"sales_chart.png\")\n",
    "\n",
    "# Show the plot\n",
    "plt.show()\n"
   ]
  },
  {
   "cell_type": "code",
   "execution_count": 9,
   "id": "7bdd48b9-7b9c-4bf0-8e22-8b927fce2c73",
   "metadata": {},
   "outputs": [
    {
     "data": {
      "text/plain": [
       "<Figure size 640x480 with 0 Axes>"
      ]
     },
     "metadata": {},
     "output_type": "display_data"
    }
   ],
   "source": [
    "plt.savefig(\"sales_chart.png\")\n"
   ]
  },
  {
   "cell_type": "code",
   "execution_count": null,
   "id": "1f1a136a-3546-4fbe-a67d-7779260677e4",
   "metadata": {},
   "outputs": [],
   "source": []
  }
 ],
 "metadata": {
  "kernelspec": {
   "display_name": "Python [conda env:base] *",
   "language": "python",
   "name": "conda-base-py"
  },
  "language_info": {
   "codemirror_mode": {
    "name": "ipython",
    "version": 3
   },
   "file_extension": ".py",
   "mimetype": "text/x-python",
   "name": "python",
   "nbconvert_exporter": "python",
   "pygments_lexer": "ipython3",
   "version": "3.12.7"
  }
 },
 "nbformat": 4,
 "nbformat_minor": 5
}
